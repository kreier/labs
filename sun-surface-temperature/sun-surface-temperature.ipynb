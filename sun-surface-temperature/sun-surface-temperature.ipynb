{
 "cells": [
  {
   "cell_type": "markdown",
   "metadata": {},
   "source": [
    "# Determination of suns surface temperature with an experiment\n",
    "\n",
    "We try to investigate the temperature of the sun's surface by measuring the temperature change of a water filled and blacked test tube when exposed to the sun for a certain time.\n",
    "\n",
    "### Mathematical background\n",
    "\n",
    "To determine the suns surface temperature in this experiment we need four relations. First, we will use the Stefan–Boltzmann-law\n",
    "\n",
    "$$P=e\\sigma AT^4$$\n",
    "\n",
    "Here the power $P$ is defined by the emissivity $e$ (equal to 1 for the sun since it is an almost perfect black body), the Stefan–Boltzmann constant $\\sigma = 5.670373 \\times 10^{-8} Wm^{-2}K^{-4}$ and the temperature $T$ in Kelvin.\n",
    "\n",
    "Second is the intensity of radiation $I$ defined as\n",
    "\n",
    "$$I=\\frac{P}{A}$$\n",
    "\n",
    "with the power $P$ (here the sun) and the illuminated or radiating area $A$. For the latter we have to compare the area of the sun's surface to the area occupied by a sphere with the radius of one AU - Astronomical Unit or mean distance between earth and sun. Since the distance is far greater and the same power is radiated into this much larger area, the intensity is much lower.\n",
    "\n",
    "To measure the irridated and absorbed power $P$ here on earth we measure the change in internal energy $Q$ over time $t$\n",
    "\n",
    "$$P=\\frac{Q}{t}$$\n",
    "\n",
    "Last we have to determinte the change in internal energy $Q$. This follows the relation \n",
    "\n",
    "$$Q=mc\\Delta T$$\n",
    "\n",
    "with the mass $m$ of the heated water, the specific heat capacity $c=4.184 Jg^{-1}K^{-1}$ of water and the temperature change $\\Delta T$.\n",
    "\n",
    "### Setup\n",
    "\n",
    "We placed a test tube with $22 mm$ diameter into the sun. Filled with $30 ml$ water the filled height was $100 mm$. The illuminated area can therefore be estimated as a rectangular with the length of $100 mm$ and width of $22 mm$. Note that you don't calculate the surface area of the test tube, which would be close to a cylinder. Only half of that area is irradiated by the sun. And this 50% area is not evenly illuminated, since the angle to the sun is changing around the cylinder. The effective illuminated area can be seen in the shadow - nearly a rectangle.\n",
    "\n",
    "Let's define our variables:"
   ]
  },
  {
   "cell_type": "code",
   "execution_count": 1,
   "metadata": {},
   "outputs": [
    {
     "name": "stdout",
     "output_type": "stream",
     "text": [
      "Enter the measured temperature change in Kelvin: 5.9\n"
     ]
    }
   ],
   "source": [
    "m = 30.0      # mass of the water\n",
    "d = 0.022     # diameter of the test tube\n",
    "h = 0.1       # height of the illuminated/heated water\n",
    "t = 300.0     # 5 minutes or 300 seconds illumination time\n",
    "c = 4.184     # specific heat capacity of water\n",
    "\n",
    "deltaT =  float(input(\"Enter the measured temperature change in Kelvin: \"))"
   ]
  },
  {
   "cell_type": "markdown",
   "metadata": {},
   "source": [
    "Using our formulas we can determine the intensity $I$ of the sun in Ho Chi Minh City.\n",
    "\n",
    "$$I=\\frac{P}{A}=\\frac{\\frac{Q}{t}}{A}=\\frac{Q}{A t}=\\frac{mc\\Delta T}{d h t}$$"
   ]
  },
  {
   "cell_type": "code",
   "execution_count": 2,
   "metadata": {},
   "outputs": [
    {
     "name": "stdout",
     "output_type": "stream",
     "text": [
      "1122 W/m² is the intensity of the sun on earths surface in Ho Chi Minh City.\n"
     ]
    }
   ],
   "source": [
    "I_earth = m*c*deltaT/(d*h*t)\n",
    "     \n",
    "print(str(int(I_earth)) + ' W/m² is the intensity of the sun on earths surface in Ho Chi Minh City.')"
   ]
  },
  {
   "cell_type": "markdown",
   "metadata": {},
   "source": [
    "For comparison: The reference literature value from the formula booklet is $1.36\\times 10^3 Wm^{-2}$\n",
    "\n",
    "From the measured intensity we can calculate the intensity on the surface of the sun. The two needed parameters are the distance from earth to sun $1 AU = 1.495978707\\times 10^{11} m$ and the average radius of the sun $r_{sun}=6.955\\times 10^8 m$. The intensity is inversly proportional to the square of the distances, given by the intensity formula above:\n",
    "\n",
    "$$P=I_{sun}A_{sun}=I_{earth}A_{AU}$$\n",
    "\n",
    "Since the area $A$ is calculated by $A=4\\pi r^2$ the factor $4\\pi$ cancels out and we get\n",
    "\n",
    "$$I_{sun}=I_{earth}\\frac{r_{AU}^2}{r_{sun}^2}$$"
   ]
  },
  {
   "cell_type": "code",
   "execution_count": 3,
   "metadata": {},
   "outputs": [
    {
     "name": "stdout",
     "output_type": "stream",
     "text": [
      "51913171 W/m² is the intensity on the surface of the sun.\n"
     ]
    }
   ],
   "source": [
    "r_AU  = 1.495978707E11  # Astronomical Unit - average distance sun-earth\n",
    "r_sun = 6.955E8         # average radius of the sun\n",
    "\n",
    "I_sun = I_earth * r_AU**2 / r_sun**2\n",
    "\n",
    "print(str(int(I_sun)) + ' W/m² is the intensity on the surface of the sun.')"
   ]
  },
  {
   "cell_type": "markdown",
   "metadata": {},
   "source": [
    "In our final step we rearange the Stefan-Boltzmann law and bring the area on the left side of the equation, which gives us the intensity at suns surface.\n",
    "\n",
    "$$\\frac{P}{A_{sun}}=I_{sun}=\\sigma T^4$$\n",
    "\n",
    "The temperature can now be calculated using\n",
    "\n",
    "$$T = \\sqrt[\\uproot{3}4]{\\frac{I_{sun}}{\\sigma}}$$"
   ]
  },
  {
   "cell_type": "code",
   "execution_count": 4,
   "metadata": {},
   "outputs": [
    {
     "name": "stdout",
     "output_type": "stream",
     "text": [
      "5500 K is the surface temperature of the sun.\n"
     ]
    }
   ],
   "source": [
    "k = 5.67E-8  # Stefan-Boltzmann constant\n",
    "\n",
    "T = (I_sun / k)**(1/4)\n",
    "\n",
    "print(str(int(T)) + ' K is the surface temperature of the sun.')"
   ]
  }
 ],
 "metadata": {
  "kernelspec": {
   "display_name": "Python 3",
   "language": "python",
   "name": "python3"
  },
  "language_info": {
   "codemirror_mode": {
    "name": "ipython",
    "version": 3
   },
   "file_extension": ".py",
   "mimetype": "text/x-python",
   "name": "python",
   "nbconvert_exporter": "python",
   "pygments_lexer": "ipython3",
   "version": "3.7.4"
  }
 },
 "nbformat": 4,
 "nbformat_minor": 2
}
