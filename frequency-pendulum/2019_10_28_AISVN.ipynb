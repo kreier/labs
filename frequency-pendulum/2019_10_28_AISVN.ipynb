{
  "nbformat": 4,
  "nbformat_minor": 0,
  "metadata": {
    "colab": {
      "name": "2019-10-28_AISVN.ipynb",
      "provenance": [],
      "collapsed_sections": []
    },
    "kernelspec": {
      "name": "python3",
      "display_name": "Python 3"
    }
  },
  "cells": [
    {
      "cell_type": "markdown",
      "metadata": {
        "id": "KkIn6bWrnCA_",
        "colab_type": "text"
      },
      "source": [
        "# Pendulum lab\n",
        "\n",
        "`2019/10/28 AISVN`\n",
        "\n",
        "We investigated the dependency of the period of a pendulum on its length. To get the nonlinear relationship we had to extend the range of length from less than $4 \\text{cm}$ to $5 \\text{meters}$. Here is the raw data:\n"
      ]
    },
    {
      "cell_type": "code",
      "metadata": {
        "id": "uiZl-cy2m-hV",
        "colab_type": "code",
        "outputId": "231dfe20-d614-4637-a2b9-f3f129b8396b",
        "colab": {
          "base_uri": "https://localhost:8080/",
          "height": 265
        }
      },
      "source": [
        "import matplotlib.pyplot as plt\n",
        "\n",
        "length = [0.038,0.055,0.102,0.175,0.309,0.551,0.668,0.736,0.869,1.117,2.374,2.854,5.009]\n",
        "period = [0.4312,0.4866,0.6432,0.8606,1.152,1.49,1.674,1.744,1.892,2.13,3.0738,3.4012,4.524]\n",
        "\n",
        "plt.plot(length,period)\n",
        "plt.show()"
      ],
      "execution_count": 0,
      "outputs": [
        {
          "output_type": "display_data",
          "data": {
            "image/png": "[encoded data removed]",
            "text/plain": [
              "<Figure size 432x288 with 1 Axes>"
            ]
          },
          "metadata": {
            "tags": []
          }
        }
      ]
    },
    {
      "cell_type": "markdown",
      "metadata": {
        "id": "EkBh0ZKknS6z",
        "colab_type": "text"
      },
      "source": [
        "\n",
        "In order to improve our precision we timed ten periods with our hand stopwatch (smartphone app) and divided the measured time by ten. The systematic error of humans reaction time of around $200 \\text{ms}$ was thereby reduced to only $20 \\text{ms}$. We measured 5 trials and calculated an average.\n",
        "\n",
        "But first, let's import the above data as csv file.\n",
        "\n"
      ]
    }
  ]
}