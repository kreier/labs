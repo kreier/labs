{
 "cells": [
  {
   "cell_type": "markdown",
   "metadata": {},
   "source": [
    "# Trebuchet and Catapult\n",
    "\n",
    "An investigation in the science class at AISVN in grade 9. `Performed 2019/11/28`.\n",
    "\n",
    "## Parameters\n",
    "\n",
    "Further details for our competition can be found at https://sites.google.com/view/trebu and it stated that our trebuchet or catapult has the following parameters:\n",
    "\n",
    "- Height of axle 30 cm.\n",
    "- Counterweight mass is 50 gram.\n",
    "- Projectile is a table tennis ball with 2.5 gram.\n",
    "\n",
    "The design is and materials is up to the students. Some videos help the building process, and images help with the design.\n",
    "\n",
    "## Calculations\n",
    "\n",
    "To get data calculated we start with the origin of energy on our simple maschines: The potential energy $E_{pot}$ of our counterweight. It is calculated from the mass $m_1=50 \\text{g}$ of the counterweight, the gravitational acceleration $g=9.81 \\text{ms}^{-2}$ and the difference in height $h=0.28 \\text{m}$ of the counterweight before/after the launch. The formula is\n",
    "\n",
    "$$E_{pot}=mgh$$\n",
    "\n",
    "Your height difference $h$ might be different, but in this case we get a potential energy of 0.137 Joules."
   ]
  },
  {
   "cell_type": "code",
   "execution_count": 1,
   "metadata": {},
   "outputs": [
    {
     "name": "stdout",
     "output_type": "stream",
     "text": [
      "0.13734000000000002\n"
     ]
    }
   ],
   "source": [
    "m1 = 0.05    # mass of the counterweight in kilogram\n",
    "g  = 9.81    # gravitational acceleration in m/s² for IB, in Ho Chi Minh more 9.79\n",
    "h  = 0.28    # example height difference in meter, you have to actually measure your height difference\n",
    "\n",
    "E_pot = m1*g*h\n",
    "\n",
    "print(E_pot)"
   ]
  },
  {
   "cell_type": "markdown",
   "metadata": {},
   "source": [
    "This potential energy has to be transfered to kinetik energy of the table tennis ball. Because of friction we have to consider the [energy conversion efficiency](https://en.wikipedia.org/wiki/Energy_conversion_efficiency) $\\eta$\n",
    "\n",
    "$$\\eta =\\frac{P_{out}}{P_{in}} = \\frac{E_{kin}}{E_{pot}}$$\n",
    "\n",
    "We can replace the power $P$ with the related energy $E$ because energy is power times time $E=Pt$ and both act for the same time, so the time cancels out. Reconfiguring our formula for the kinetic energy $E_{kin}=\\eta E_{pot}$ in case of an efficiency of $\\eta =50\\% = 0.5$ we get $E_{kin}=0.069 \\text{J}$."
   ]
  },
  {
   "cell_type": "code",
   "execution_count": 2,
   "metadata": {},
   "outputs": [
    {
     "name": "stdout",
     "output_type": "stream",
     "text": [
      "0.06867000000000001\n"
     ]
    }
   ],
   "source": [
    "eta = 0.5    # efficiency of our catapult or trebuchet\n",
    "\n",
    "E_kin = eta*E_pot\n",
    "\n",
    "print(E_kin)"
   ]
  },
  {
   "cell_type": "markdown",
   "metadata": {},
   "source": [
    "This kinetic energy of the table tennis ball is directly related to its velocity:\n",
    "\n",
    "$$E_{kin}=\\frac{1}{2}mv^2$$\n",
    "\n",
    "We can rearrange this formula to calculate the velocity of the ball from its kinetic energy:\n",
    "\n",
    "$$v=\\sqrt{\\frac{2E}{m}}$$\n",
    "\n",
    "I we insert our values like the mass $m_2$ for the ball we get a velocity of 7.1 ms<sup>-1</sup> or 26 kmh<sup>-1</sup>."
   ]
  },
  {
   "cell_type": "code",
   "execution_count": 3,
   "metadata": {},
   "outputs": [
    {
     "name": "stdout",
     "output_type": "stream",
     "text": [
      "7.132087118555596\n",
      "25.675513626800146\n"
     ]
    }
   ],
   "source": [
    "m2 = 0.0027   # mass of our table tennis ball in kilogram\n",
    "\n",
    "v = (2*E_kin/m2)**(1/2)  # ^1/2 is the same as squareroot\n",
    "\n",
    "print(v)      # velocity in m/s\n",
    "print(v*3.6)  # velocity in km/h"
   ]
  },
  {
   "cell_type": "markdown",
   "metadata": {},
   "source": [
    "If our projectile leaves the catapult or trebuchet at the height of the axle and follows an ideal [projectile motion](https://en.wikipedia.org/wiki/Projectile_motion) (no air resistance) then we can calculate the maximum distance it will travel until it hits the ground. For simplicity we also assume an angle of 45°. There are several online tools to calculate the distance like for example https://www.omnicalculator.com/physics/range-projectile-motion. Details are described in the [Article on the range of a projectile](https://en.wikipedia.org/wiki/Range_of_a_projectile). Using python we can calculate the distance $d$ here in this notebook as well. First we can calculate the time to reach the ground by investigating the vertical motion. Because of the acceleration due to gravitation it is a quadratic formula with the solution:\n",
    "\n",
    "$$t=\\frac{1}{g}\\left(v_y + \\sqrt{v_y^2 + 2gh}\\right)=\\frac{1}{g}\\left(v\\sin\\theta + \\sqrt{v^2\\sin^2\\theta + 2gh}\\right)$$\n",
    "\n",
    "For the distance we just have to multiply the time with the horizontal velocity $v_x=v\\cos\\theta$ and get\n",
    "\n",
    "$$d = \\frac{v\\cos\\theta}{g}\\left(v\\sin\\theta + \\sqrt{v^2\\sin^2\\theta + 2gh}\\right)$$\n",
    "\n",
    "In our case this results in a maximum distance of 5.47 meter!"
   ]
  },
  {
   "cell_type": "code",
   "execution_count": 53,
   "metadata": {},
   "outputs": [
    {
     "name": "stdout",
     "output_type": "stream",
     "text": [
      "1.0845581075711241\n",
      "5.469586146064956\n"
     ]
    }
   ],
   "source": [
    "from math import *\n",
    "\n",
    "theta = pi/4     # shooting angle 45 degree\n",
    "h2    = 0.30     # height where projectile is released\n",
    "\n",
    "t = (v*sin(theta) + (v**2*sin(theta)**2 + 2*g*h2)**0.5)/g \n",
    "d = v*cos(theta)*t\n",
    "\n",
    "print(t)\n",
    "print(d)"
   ]
  },
  {
   "cell_type": "markdown",
   "metadata": {},
   "source": [
    "We won't reach this maximum distance. Let's calculate our efficiency by measuring our maximum distance and calculating our initial velocity and therefore kinetic energy backwards."
   ]
  }
 ],
 "metadata": {
  "kernelspec": {
   "display_name": "Python 3",
   "language": "python",
   "name": "python3"
  },
  "language_info": {
   "codemirror_mode": {
    "name": "ipython",
    "version": 3
   },
   "file_extension": ".py",
   "mimetype": "text/x-python",
   "name": "python",
   "nbconvert_exporter": "python",
   "pygments_lexer": "ipython3",
   "version": "3.7.4"
  }
 },
 "nbformat": 4,
 "nbformat_minor": 2
}
