{
  "nbformat": 4,
  "nbformat_minor": 0,
  "metadata": {
    "colab": {
      "name": "ascorbic-acid.ipynb",
      "provenance": [],
      "collapsed_sections": []
    },
    "kernelspec": {
      "name": "python3",
      "display_name": "Python 3"
    }
  },
  "cells": [
    {
      "cell_type": "markdown",
      "metadata": {
        "id": "G4obzhtvP_CO"
      },
      "source": [
        "# Determination of Vitamin C concentration\n",
        "\n",
        "## Reference values\n",
        "\n",
        "To start with we need some sample concentration various fruits. What results should we expect? Looking at labels of juice in the supermarket we can see values like $10 mg/100ml$ for apple juice, mixed pinapple juice has $30 mg/200ml$ and orange juice $20 mg/100ml$. Further concentrations are well known and pulished multiple times, for example by USDA ([link](https://fdc.nal.usda.gov/)). \n",
        "\n",
        "| Fruit                             | Apple | Orange | Pear |\n",
        "|-----------------------------------|:-----:|:------:|:----:|\n",
        "| Concentration Katy (g/cm³)        |  2.59 |  8.24  | 2.53 |\n",
        "| Converted concentration (mg/100g) |  259  |   824  |  253 |\n",
        "| Reference concentration (mg/100g) |  4.6  |  53.2  |  4.3 |\n",
        "\n",
        "## Materials\n",
        "\n",
        "We need the following for our investigation:\n",
        "\n",
        "- phenolphthalein as standard indicator\n",
        "- $HC_6H_7O_6$ ascorbic acid / vitamin C\n",
        "- $NaOH$\n",
        "- $NaIO_3$\n",
        "- several oranges\n",
        "- 300 ml iodine solution\n",
        "\n",
        "## Procedure - Titration\n",
        "\n",
        "As described in [this instructions](https://github.com/kreier/labs/blob/master/ee/vitamin_c.pdf) the procedure is an acid-base titration. The ascorbic acid $HC_6H_7O_6$ reacts with $NaOH$ and $NaIO_3$. The indicator *phenolphthalein* indicates the endpoint by changing from colorless to pink. The reactions are\n",
        "\n",
        "$$(1) HC_6H_7O_6 + NaOH \\rightarrow NaC_6H_7O_6 + H_2O$$\n",
        "\n",
        "$$(2) 3 HC_6H_7O_6 + NaIO_3 \\rightarrow 3C_6H_6O_6 + NaI + 3 H_2O$$\n",
        "\n",
        "First squeeze the liquid out of the oranges. Measure 5 ml of orange juice, filtrate and then add 10% iodine solution until the mixture turns blue.\n",
        "\n",
        "## Determination of concentration\n",
        "\n",
        "We need the formula\n",
        "\n",
        "$$C_{AA} = 10 mL$$\n",
        "\n",
        "And then"
      ]
    },
    {
      "cell_type": "code",
      "metadata": {
        "id": "juoUYbfgPnuC",
        "outputId": "e829cc5b-3ef7-4a1d-a1aa-aafeb1b89660",
        "colab": {
          "base_uri": "https://localhost:8080/",
          "height": 34
        }
      },
      "source": [
        "m = 0.1         # mass of oranges, in kilogram\n",
        "d = 1           # density of oranges\n",
        "v = m / d       # since d = m / v\n",
        "\n",
        "print(\"The volume of the oranges is {:.2f} mL.\".format(v))"
      ],
      "execution_count": null,
      "outputs": [
        {
          "output_type": "stream",
          "text": [
            "The volume of the oranges is 0.10 mL.\n"
          ],
          "name": "stdout"
        }
      ]
    },
    {
      "cell_type": "markdown",
      "metadata": {
        "id": "DjVS8LGTGq97"
      },
      "source": [
        "## Reference literature\n",
        "\n",
        "The procedure has been well described in the literature. Here are a few examples, that include the formula, for example. It might help to find the error.\n",
        "\n",
        "1) Procedure of titration with chemical formula\n",
        "\n",
        "- http://employee.heartland.edu/rmuench/chem162/vitamin_c.pdf \n",
        "- http://faculty.icc.edu/bcook/c130xp5.pdf\n",
        "- http://web.gccaz.edu/~rob2108739/Ascorbic%20Acid%20Titration/Ascorbic%20Acid%20Titration%20Background%20Spring%202010.pdf\n",
        "\n",
        "2) Results with visualisation (from PRISM)\n",
        "\n",
        "- https://pdfs.semanticscholar.org/6685/837664b00db65c990a99431f7c22a7e50708.pdf\n",
        "\n",
        "3) Example paper with citations\n",
        "\n",
        "- https://www.hindawi.com/journals/jamc/2008/937651/\n",
        "\n"
      ]
    }
  ]
}