{
  "nbformat": 4,
  "nbformat_minor": 0,
  "metadata": {
    "colab": {
      "name": "Katy_EE.ipynb",
      "provenance": [],
      "collapsed_sections": []
    },
    "kernelspec": {
      "display_name": "Python 3",
      "language": "python",
      "name": "python3"
    },
    "language_info": {
      "codemirror_mode": {
        "name": "ipython",
        "version": 3
      },
      "file_extension": ".py",
      "mimetype": "text/x-python",
      "name": "python",
      "nbconvert_exporter": "python",
      "pygments_lexer": "ipython3",
      "version": "3.7.4"
    }
  },
  "cells": [
    {
      "cell_type": "markdown",
      "metadata": {
        "id": "raM21cGXV8Cy"
      },
      "source": [
        "# Investigate Vitamin C Antioxidant Property in Preventing Diseases\n",
        "\n",
        "*EE of Katy*\n",
        "\n",
        "This is a reflection on her data, visualisation, and implications. Let's startwith the method and measured results.\n",
        "\n",
        "## Measuring the concentration\n",
        "\n",
        "Katy wrote on page 10 for \"vitamin C content (g/mol) in each fruit\"\n",
        "\n",
        "> volume of iodine used x molarity of standard iodine solution x mole ratio x ascorbic acid molar mass x volume of fruit juice used\n",
        "\n",
        "Converted into a formula this gives\n",
        "\n",
        "$$C_{AA}=V_{iodine}C_{iodine}R M_{AA}V_{fruit\\_juice}$$\n",
        "\n",
        "Looking at the units we see that this formula must be flawed. Volume $V$ is measured in $\\text{ml}$ or $\\text{cm}^3$ and molarity $C$ in $\\text{mol/l}$. Molar mass $M$ is given as $\\text{g/mol}$ and the ratio $R$ has no unit. Combined this results in  \n",
        "\n",
        "$$\\text{ml}\\times \\frac{\\text{mol}}{\\text{l}}\\times 1\\times \\frac{\\text{g}}{\\text{mol}}\\times \\text{ml}=\\frac{\\text{ml}^2\\text{g}}{\\text{l}}$$\n",
        "\n",
        "On page 11 she divides by the volume of the fruit juice. This leaves us with a concentration in gram per liter. The correct formula therefore should be\n",
        "\n",
        "$$C_{AA}=C_{iodine}RM_{AA}\\frac{V_{iodine}}{V_{fruit\\_juice}}$$\n",
        "\n",
        "Note that the concentration we calculate will no longer be in $mol/liter$ like the molarity of the iodine solution $\\text{(0.025M)}$ but in $gram/liter$. While the former is widely used by chemist to determine the correct amount ($mol$) of substance for a chemical reaction, the latter one is used in more general cases.\n",
        "\n",
        "## Converting the concentration\n",
        "\n",
        "When searching for nutrition values, neither $\\text{mol/l}$ nor $\\text{g/l}$ is used. Instead, the concentration for vitamins is often given in $\\text{mg/100g}$. We have to convert the units and do some assumptions on the way.\n",
        "\n",
        "First we cannot easily convert the volume $\\text{ml}$ to a mass $\\text{g}$ since we don't know the density. But most fruits consist to a large amount of water and the density of water at room temperature is around $\\text{1 kg/l = 1 g/ml}$ we can directly convert $\\text{g}$ to $\\text{ml}$. For the conversion from $\\text{g}$ to $\\text{mg}$ we have to multiply with 1000. To reference the number then to $\\text{100g}$ instead of a liter or $\\text{1kg}$ we have to divide the value by 10.\n",
        "\n",
        "As a result we need to **multiply** Katy's values **by 100** to the desired concentration unit.\n",
        "\n",
        "## Comparing the results\n",
        "\n",
        "The concentrations are well known and pulished multiple times, for example by USDA ([link](https://fdc.nal.usda.gov/)).\n",
        "\n",
        "| Fruit                             | Apple | Orange | Pear |\n",
        "|-----------------------------------|:-----:|:------:|:----:|\n",
        "| Concentration Katy (g/cm³)        |  2.59 |  8.24  | 2.53 |\n",
        "| Converted concentration (mg/100g) |  259  |   824  |  253 |\n",
        "| Reference concentration (mg/100g) |  4.6  |  53.2  |  4.3 |\n",
        "\n",
        "The measured values seem to be significantly larger than the reference values. First let's reproduce the math:"
      ]
    },
    {
      "cell_type": "code",
      "metadata": {
        "id": "rN58I_cBV7HG",
        "outputId": "add979e9-db38-4888-d893-b3e7d57944fb",
        "colab": {
          "base_uri": "https://localhost:8080/",
          "height": 34
        }
      },
      "source": [
        "# trial 2: orange\n",
        "V1 = 31.2     # volume of iodine used in ml\n",
        "C1 = 0.025    # molarity or concentration of standard iodine solution in mol/l\n",
        "R  = 3        # mole ratio\n",
        "M2 = 176      # molar mass of ascorbic acid in g/mol\n",
        "V2 = 50       # volume of fruid solution used in ml\n",
        "\n",
        "C2 = V1 * C1 * R * M2 / V2\n",
        "C2"
      ],
      "execution_count": null,
      "outputs": [
        {
          "output_type": "execute_result",
          "data": {
            "text/plain": [
              "8.236799999999999"
            ]
          },
          "metadata": {
            "tags": []
          },
          "execution_count": 1
        }
      ]
    },
    {
      "cell_type": "markdown",
      "metadata": {
        "id": "C7zY4v5qhIci"
      },
      "source": [
        "So the math is correct. But the numbers are way to big. We use mathplotlib to visualize the difference.\n"
      ]
    },
    {
      "cell_type": "code",
      "metadata": {
        "id": "-9cUP2JuG7nf",
        "outputId": "1f1cc5ec-c885-4731-ecc1-a457b68da308"
      },
      "source": [
        "import numpy as np\n",
        "import matplotlib.pyplot as plt\n",
        "\n",
        "fruits = ['Apple','Orange','Pear']\n",
        "c_katy = [259, 824, 253]\n",
        "c_ref  = [4.6, 53.2, 4.3]\n",
        "x_pos = np.arange(len(fruits))\n",
        "plt.subplot(1, 2, 1)\n",
        "plt.bar(x_pos,c_katy)\n",
        "plt.xticks(x_pos, fruits)\n",
        "plt.title('Concentration Katy')\n",
        "\n",
        "plt.subplot(1, 2, 2)\n",
        "plt.bar(x_pos,c_ref)\n",
        "plt.xticks(x_pos, fruits)\n",
        "plt.title('Reference concentration')\n",
        "\n",
        "plt.show()"
      ],
      "execution_count": null,
      "outputs": [
        {
          "output_type": "display_data",
          "data": {
            "image/png": "[encoded data removed]",
            "text/plain": [
              "<Figure size 432x288 with 2 Axes>"
            ]
          },
          "metadata": {
            "tags": [],
            "needs_background": "light"
          }
        }
      ]
    },
    {
      "cell_type": "markdown",
      "metadata": {
        "id": "7-Snyvq1G7nk"
      },
      "source": [
        "In part the relations are indicated correct. The concentration of vitamin C in oranges is much higher than in pears or apples. And the concentration in apples and pears is almost identical. The relation to the oranges has some visible error. And the absolute value is way off! Let's compare the concentrations in the same graph."
      ]
    },
    {
      "cell_type": "code",
      "metadata": {
        "id": "g5EeIM9Hxs54",
        "outputId": "80071c30-70a4-4e53-abe6-f11529b08fcf",
        "colab": {
          "base_uri": "https://localhost:8080/",
          "height": 297
        }
      },
      "source": [
        "import numpy as np\n",
        "import matplotlib.pyplot as plt\n",
        "\n",
        "fruits = ['Apple','Orange','Pear']\n",
        "c_katy = [259, 824, 253]\n",
        "c_ref  = [4.6, 53.2, 4.3]\n",
        "\n",
        "x_ps = np.arange(len(fruits))  # the label locations\n",
        "width = 0.35  # the width of the bars\n",
        "\n",
        "fig, ax = plt.subplots()\n",
        "rects1 = ax.bar(x_ps - width/2, c_katy, width, label='C Katy')\n",
        "rects2 = ax.bar(x_ps + width/2, c_ref,  width, label='C Reference')\n",
        "\n",
        "ax.set_ylabel('mg/100g')\n",
        "ax.set_title('Measured concentration vs. reference values')\n",
        "ax.set_xticks(x_ps)\n",
        "ax.set_xticklabels(fruits)\n",
        "ax.legend()\n",
        "\n",
        "def autolabel(rects):\n",
        "    \"\"\"Attach a text label above each bar in *rects*, displaying its height.\"\"\"\n",
        "    for rect in rects:\n",
        "        height = rect.get_height()\n",
        "        ax.annotate('{}'.format(height),\n",
        "                    xy=(rect.get_x() + rect.get_width() / 2, height),\n",
        "                    xytext=(0, 3),  # 3 points vertical offset\n",
        "                    textcoords=\"offset points\",\n",
        "                    ha='center', va='bottom')\n",
        "\n",
        "autolabel(rects1)\n",
        "autolabel(rects2)\n",
        "fig.tight_layout()\n",
        "plt.show()"
      ],
      "execution_count": null,
      "outputs": [
        {
          "output_type": "display_data",
          "data": {
            "image/png": "[encoded data removed]",
            "text/plain": [
              "<Figure size 432x288 with 1 Axes>"
            ]
          },
          "metadata": {
            "tags": [],
            "needs_background": "light"
          }
        }
      ]
    },
    {
      "cell_type": "markdown",
      "metadata": {
        "id": "1VscLuHkztQ2"
      },
      "source": [
        "Now let's calculate and show the percentage error."
      ]
    },
    {
      "cell_type": "code",
      "metadata": {
        "id": "ia90-Y4lG7np",
        "outputId": "c691228a-f2c3-4215-baab-8b160122ed59"
      },
      "source": [
        "c_error = []\n",
        "\n",
        "for i in range(len(c_katy)):\n",
        "  c_error.append((c_katy[i] - c_ref[i] )/ c_ref[i] * 100)\n",
        "\n",
        "plt.bar(x_pos, c_error, align='center', alpha=0.5)\n",
        "plt.xticks(x_pos, fruits)\n",
        "plt.ylabel('percentage error')\n",
        "plt.title('percentage error')\n",
        "\n",
        "plt.show()                 "
      ],
      "execution_count": null,
      "outputs": [
        {
          "output_type": "display_data",
          "data": {
            "image/png": "[encoded data removed]",
            "text/plain": [
              "<Figure size 432x288 with 1 Axes>"
            ]
          },
          "metadata": {
            "tags": [],
            "needs_background": "light"
          }
        }
      ]
    },
    {
      "cell_type": "markdown",
      "metadata": {
        "id": "a8A3MU0pvHy1"
      },
      "source": [
        "What is the reason? 5500% is a big deviation from the reference value. It's 55x bigger than it should be. Let's go back to the calculated concentration of the three fruits. The formula used is:\n",
        "\n",
        "$$C_{AA}=C_{iodine}RM_{AA}\\frac{V_{iodine}}{V_{fruit\\_juice}}$$\n",
        "\n",
        "The error must be in one of these 5 factors:\n",
        "\n",
        "- Concentration of iodine\n",
        "- Mole ratio iodine/ascorbic acid\n",
        "- Molar mass of ascorbic acid\n",
        "- Volume of iodine used\n",
        "- Volume of fruit juice\n",
        "\n",
        "The answer is ..."
      ]
    },
    {
      "cell_type": "markdown",
      "metadata": {
        "id": "cQ6nQs-p09rT"
      },
      "source": [
        "## Reference literature\n",
        "\n",
        "The procedure has been well described in the literature. Here are a few examples, that include the formula, for example. It might help to find the error.\n",
        "\n",
        "1) Procedure of titration with chemical formula\n",
        "\n",
        "- http://employee.heartland.edu/rmuench/chem162/vitamin_c.pdf \n",
        "- http://faculty.icc.edu/bcook/c130xp5.pdf\n",
        "- http://web.gccaz.edu/~rob2108739/Ascorbic%20Acid%20Titration/Ascorbic%20Acid%20Titration%20Background%20Spring%202010.pdf\n",
        "\n",
        "2) Results with visualisation (from PRISM)\n",
        "\n",
        "- https://pdfs.semanticscholar.org/6685/837664b00db65c990a99431f7c22a7e50708.pdf\n",
        "\n",
        "3) Example paper with citations\n",
        "\n",
        "- https://www.hindawi.com/journals/jamc/2008/937651/\n",
        "\n",
        "\n"
      ]
    }
  ]
}