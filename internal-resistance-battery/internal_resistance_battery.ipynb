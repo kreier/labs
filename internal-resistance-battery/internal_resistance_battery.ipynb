{
  "nbformat": 4,
  "nbformat_minor": 0,
  "metadata": {
    "colab": {
      "name": "internal-resistance-battery.ipynb",
      "provenance": []
    },
    "kernelspec": {
      "name": "python3",
      "display_name": "Python 3"
    }
  },
  "cells": [
    {
      "cell_type": "markdown",
      "metadata": {
        "id": "ky6t2Ic6-VN-",
        "colab_type": "text"
      },
      "source": [
        "# Internal resistance of a battery\n",
        "\n",
        "We use the simple AAA battery from the remote for projector/presentations. The voltage without load (equal to e.m.f. $\\varepsilon$) is $V = 1.499 \\text{V}$. If we use a resistor with $R = 1 k\\Omega$ parallel as load, the voltage drops to $V_{ext} = 1.469 \\text{V}$.\n",
        "\n",
        "## Calculate the internal resistance\n",
        "\n",
        "We use the formula from the booklet 5.3:\n",
        "\n",
        "- $\\varepsilon = I(R + r)$\n",
        "\n",
        "Here $\\varepsilon$ is the e.m.f. of the cell, $r$ the internal resistance and $R$ the external resistance or load resistor. First we have to find the current in this circuit and use the values for the load resistor in combination with Ohm's law:\n",
        "\n",
        "- $R = \\frac{V}{I}$\n",
        "\n",
        "And with the given $V_{ext} = 1.469 \\text{V}$ and $R = 1 k\\Omega$ we get\n",
        "- $I = \\frac{V_{ext}}{R} = \\frac{1.469}{1000} = 1.469 \\text{mA}$\n",
        "\n",
        "The internal voltage drop $V_{int}$ over the internal resistance is calculated, using Kirchoff's rule:\n",
        "\n",
        "- $\\varepsilon = V_{int} + V_{ext} ~~\\longrightarrow ~~ V_{int} = \\varepsilon - V_{ext} = 1.499 - 1.469 = 0.03 \\text{V}$\n",
        "\n",
        "Finally the internal resistance is calculated, using Ohm's law:\n",
        "\n",
        "- $r = \\frac{V_{int}}{I} = \\frac{0.03}{0.001469} = 20.4 \\Omega$\n",
        "\n",
        "__Answer:__ The internal resistance of the AAA battery is $20.4 \\Omega$."
      ]
    },
    {
      "cell_type": "code",
      "metadata": {
        "id": "9Ax_fQOB-Tre",
        "colab_type": "code",
        "colab": {
          "base_uri": "https://localhost:8080/",
          "height": 34
        },
        "outputId": "354ed0d9-988e-4770-b7f4-40a8d3039da2"
      },
      "source": [
        "emf = 1.499      # emf of the battery, in Volt\n",
        "V_ext = 1.469    # external voltage of battery under load of 1 kOhm resistor, in Volt\n",
        "R = 1000         # resistance of load, in Ohm\n",
        "\n",
        "I = V_ext / R\n",
        "V_int = emf - V_ext\n",
        "r = V_int / I\n",
        "\n",
        "print(\"The internal resistance is {:.1f} Ohm.\".format(r))"
      ],
      "execution_count": 2,
      "outputs": [
        {
          "output_type": "stream",
          "text": [
            "The internal resistance is 20.4 Ohm.\n"
          ],
          "name": "stdout"
        }
      ]
    }
  ]
}