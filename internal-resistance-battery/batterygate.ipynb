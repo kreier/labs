{
  "nbformat": 4,
  "nbformat_minor": 0,
  "metadata": {
    "colab": {
      "name": "batterygate.ipynb",
      "provenance": []
    },
    "kernelspec": {
      "name": "python3",
      "display_name": "Python 3"
    }
  },
  "cells": [
    {
      "cell_type": "markdown",
      "metadata": {
        "id": "1FUSON42D8Au",
        "colab_type": "text"
      },
      "source": [
        "# Batterygate example (not actual values)\n",
        "\n",
        "> 2020/05/07\n",
        "\n",
        "We assume our internal battery to have a emf of $\\varepsilon = 3.7\\text{V}$ and that the electronics at $V_{ext}$ needs at leat $3.3 \\text{V}$. The maximum power consumption of the iPhone is considered at $2 \\text{Watt}$. Determine the maximum internal resistance $r$ of the battery.\n",
        "\n",
        "- $\\varepsilon = 3.7\\text{V}~~~~~~~~~~~~$internal potential difference of the battery\n",
        "- $V_{ext} \\gt 3.3 \\text{V}~~~~~~~~$minimum external voltage for electronics\n",
        "- $P_{max} = 2 \\text{W}~~~~~~~~$maximum power of smartphone\n",
        "\n",
        "__Formula__\n",
        "- $P = VI$\n",
        "- $R = \\frac{V}{I}$\n",
        "- $\\varepsilon = I(R + r)$\n",
        "\n",
        "__Answer:__ The maximum internal resistance of the battery can be $0.66 \\Omega$."
      ]
    },
    {
      "cell_type": "code",
      "metadata": {
        "id": "cUA2Rl3oD5-K",
        "colab_type": "code",
        "colab": {
          "base_uri": "https://localhost:8080/",
          "height": 34
        },
        "outputId": "aebe12ef-9bb5-48a6-b6a1-af0aa111d604"
      },
      "source": [
        "emf   = 3.7     # internal potential difference of the battery in Volt\n",
        "V_ext = 3.3     # minimal external voltage at the electronics\n",
        "P     = 2.0     # maximum power of smartphone electronics\n",
        "\n",
        "I = P / V_ext   # maximum current at maximum power for minimum voltage\n",
        "V_int = emf - V_ext # voltage drop over internal resistance\n",
        "r = V_int / I   # maximum internal resistance\n",
        "\n",
        "print(\"The maximum internal resistance of the battery can be {:.2f} Ohm.\".format(r))"
      ],
      "execution_count": 1,
      "outputs": [
        {
          "output_type": "stream",
          "text": [
            "The maximum internal resistance of the battery can be 0.66 Ohm.\n"
          ],
          "name": "stdout"
        }
      ]
    },
    {
      "cell_type": "markdown",
      "metadata": {
        "id": "lJTSGXHSFhxm",
        "colab_type": "text"
      },
      "source": [
        "After two years the internal resistance has risen to $r = 2\\Omega$. Determine $V_{ext}$. "
      ]
    },
    {
      "cell_type": "code",
      "metadata": {
        "id": "ayhw2SHhH1hC",
        "colab_type": "code",
        "colab": {
          "base_uri": "https://localhost:8080/",
          "height": 34
        },
        "outputId": "175c376e-9937-4219-bcd2-b53d8a678ec4"
      },
      "source": [
        "emf   = 3.7     # internal potential difference of the battery in Volt\n",
        "V_ext = 3.3     # minimal external voltage at the electronics\n",
        "P     = 2.0     # maximum power of smartphone electronics\n",
        "r     = 2.0     # internal resistance of battery after two years, in Ohm  \n",
        "\n",
        "R = V_ext**2 / P   # respective resistance of smartphone at max power for new battery\n",
        "I = emf / (R + r)  # current in old battery with higher internal resistance\n",
        "V_electronics = R * I   # voltage at the electronics\n",
        "\n",
        "print(\"With an old battery and internal resistance of 2 Ohm the electronics gets only {:.2f} Volt.\".format(V_electronics))"
      ],
      "execution_count": 2,
      "outputs": [
        {
          "output_type": "stream",
          "text": [
            "With an old battery and internal resistance of 2 Ohm the electronics gets only 2.71 Volt.\n"
          ],
          "name": "stdout"
        }
      ]
    },
    {
      "cell_type": "markdown",
      "metadata": {
        "id": "0uMdOFcbKXGJ",
        "colab_type": "text"
      },
      "source": [
        "$2.71 \\text{Volt}$ is not enough to power the smartphone. At high demand it shuts of.\n",
        "\n",
        "A software feature now limits the maximum power consumption of the smartphone to $P = 0.6 \\text{W}$ until the battery is changed. Determine $V_{ext}$ with this software update."
      ]
    },
    {
      "cell_type": "code",
      "metadata": {
        "id": "HRNNWnplKsaJ",
        "colab_type": "code",
        "colab": {
          "base_uri": "https://localhost:8080/",
          "height": 34
        },
        "outputId": "730e5986-4e71-428b-9206-e7a769243cf5"
      },
      "source": [
        "emf   = 3.7     # internal potential difference of the battery in Volt\n",
        "V_ext = 3.3     # minimal external voltage at the electronics\n",
        "P     = 0.6     # maximum power of smartphone electronics\n",
        "r     = 2.0     # internal resistance of battery after two years, in Ohm  \n",
        "\n",
        "R = V_ext**2 / P   # respective resistance of smartphone at new max power\n",
        "I = emf / (R + r)  # current in old battery with power limit for electronics\n",
        "V_electronics2 = R * I   # voltage at the electronics\n",
        "\n",
        "print(\"With an old battery and a power limit of 0.6 W the electronics gets {:.2f} Volt.\".format(V_electronics2))"
      ],
      "execution_count": 3,
      "outputs": [
        {
          "output_type": "stream",
          "text": [
            "With an old battery and a power limit of 0.6 W the electronics gets 3.33 Volt.\n"
          ],
          "name": "stdout"
        }
      ]
    }
  ]
}